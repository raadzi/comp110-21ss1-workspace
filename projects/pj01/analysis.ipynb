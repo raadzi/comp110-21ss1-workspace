{
 "metadata": {
  "language_info": {
   "codemirror_mode": {
    "name": "ipython",
    "version": 3
   },
   "file_extension": ".py",
   "mimetype": "text/x-python",
   "name": "python",
   "nbconvert_exporter": "python",
   "pygments_lexer": "ipython3",
   "version": "3.9.5"
  },
  "orig_nbformat": 4,
  "kernelspec": {
   "name": "python3",
   "display_name": "Python 3.9.5 64-bit"
  },
  "interpreter": {
   "hash": "534af56a150f34f6ed5af9f88817ab096e171ab048c95cb88cb7da9b08ceb781"
  }
 },
 "nbformat": 4,
 "nbformat_minor": 2,
 "cells": [
  {
   "source": [
    "# Hypothesis: People who take their own notes more are less likely to think thst the class is too fast-paced."
   ],
   "cell_type": "markdown",
   "metadata": {}
  },
  {
   "source": [
    "## 1. Import the CSV with data from the previous semester and create a column-oriented table.\n",
    "#### This first code ensures that any changes are automatically reloaded and saved in the imported modules."
   ],
   "cell_type": "markdown",
   "metadata": {}
  },
  {
   "source": [
    "%reload_ext autoreload\n",
    "%autoreload 2"
   ],
   "cell_type": "code",
   "metadata": {},
   "execution_count": 7,
   "outputs": []
  },
  {
   "source": [
    "#### This navigates to the data directory and creates a constant that shows the file path to the survey results that are needed for this exploration. Then, the program reads the CSV and creates rows that are lists of dictionaries, with both keys and values being strings."
   ],
   "cell_type": "markdown",
   "metadata": {}
  },
  {
   "cell_type": "code",
   "execution_count": 8,
   "metadata": {
    "tags": []
   },
   "outputs": [],
   "source": [
    "DATA_DIRECTORY=\"../../data\"\n",
    "DATA_FILE_PATH=f\"{DATA_DIRECTORY}/survey.csv\"\n",
    "\n",
    "from data_utils import read_csv_rows\n",
    "\n",
    "rows: list[dict[str, str]] = read_csv_rows(DATA_FILE_PATH)"
   ]
  },
  {
   "source": [
    "#### Next, we convert this list of rows into a column-oriented table, or a dictionary of columns. The first five rows of this table are shown. The tabulate function is just for the *aesthetic* because I like it when things look neat and clean."
   ],
   "cell_type": "markdown",
   "metadata": {}
  },
  {
   "cell_type": "code",
   "execution_count": 9,
   "metadata": {},
   "outputs": [
    {
     "output_type": "execute_result",
     "data": {
      "text/plain": [
       "'<table>\\n<thead>\\n<tr><th style=\"text-align: right;\">  </th><th style=\"text-align: right;\">  row_number</th><th style=\"text-align: right;\">  year</th><th>unc_status                 </th><th>comp_major  </th><th>primary_major   </th><th>prereqs                                                    </th><th>prior_exp  </th><th>AP_Principles  </th><th>AP_A  </th><th>other_comp                      </th><th>prior_time                  </th><th>languages                                           </th><th>residency   </th><th>on_campus  </th><th>international                   </th><th>section                          </th><th style=\"text-align: right;\">  lesson_time</th><th style=\"text-align: right;\">  sync_perf</th><th style=\"text-align: right;\">  all_sync</th><th style=\"text-align: right;\">  own_notes</th><th style=\"text-align: right;\">  own_examples</th><th style=\"text-align: right;\">  oh_visits</th><th style=\"text-align: right;\">  ls_effective</th><th style=\"text-align: right;\">  lsqs_effective</th><th style=\"text-align: right;\">  programming_effective</th><th style=\"text-align: right;\">  qz_effective</th><th>oh_effective  </th><th>tutoring_effective  </th><th>kaki_effective  </th><th style=\"text-align: right;\">  pace</th><th style=\"text-align: right;\">  difficulty</th><th style=\"text-align: right;\">  understanding</th><th style=\"text-align: right;\">  interested</th><th style=\"text-align: right;\">  valuable</th><th style=\"text-align: right;\">  would_recommend</th></tr>\\n</thead>\\n<tbody>\\n<tr><td style=\"text-align: right;\"> 0</td><td style=\"text-align: right;\">           0</td><td style=\"text-align: right;\">    21</td><td>Returning UNC Student      </td><td>No          </td><td>Public Health   </td><td>MATH 231, MATH 232, MATH 233, STOR 155                     </td><td>1-2 years  </td><td>No             </td><td>No    </td><td>UNC                             </td><td>1 month or so               </td><td>Python, R / Matlab / SAS, Other                     </td><td>Out-of-state</td><td>Yes        </td><td>I am living in the United States</td><td>Section 2 - 5:00pm - Async       </td><td style=\"text-align: right;\">            1</td><td style=\"text-align: right;\">          3</td><td style=\"text-align: right;\">         3</td><td style=\"text-align: right;\">          7</td><td style=\"text-align: right;\">             4</td><td style=\"text-align: right;\">          2</td><td style=\"text-align: right;\">             3</td><td style=\"text-align: right;\">               5</td><td style=\"text-align: right;\">                      3</td><td style=\"text-align: right;\">             4</td><td>7.0           </td><td>3.0                 </td><td>4.0             </td><td style=\"text-align: right;\">     5</td><td style=\"text-align: right;\">           5</td><td style=\"text-align: right;\">              5</td><td style=\"text-align: right;\">           7</td><td style=\"text-align: right;\">         7</td><td style=\"text-align: right;\">                6</td></tr>\\n<tr><td style=\"text-align: right;\"> 1</td><td style=\"text-align: right;\">           1</td><td style=\"text-align: right;\">    23</td><td>Returning UNC Student      </td><td>No          </td><td>Statistics      </td><td>MATH 130, MATH 231, STOR 120, STOR 151                     </td><td>2-6 months </td><td>No             </td><td>No    </td><td>UNC                             </td><td>None to less than one month!</td><td>Python                                              </td><td>In-state    </td><td>Yes        </td><td>I am living in the United States</td><td>Section 1 - 3:30pm - Sync + Async</td><td style=\"text-align: right;\">            1</td><td style=\"text-align: right;\">          4</td><td style=\"text-align: right;\">         3</td><td style=\"text-align: right;\">          6</td><td style=\"text-align: right;\">             1</td><td style=\"text-align: right;\">          5</td><td style=\"text-align: right;\">             5</td><td style=\"text-align: right;\">               2</td><td style=\"text-align: right;\">                      3</td><td style=\"text-align: right;\">             7</td><td>7.0           </td><td>                    </td><td>7.0             </td><td style=\"text-align: right;\">     7</td><td style=\"text-align: right;\">           7</td><td style=\"text-align: right;\">              3</td><td style=\"text-align: right;\">           7</td><td style=\"text-align: right;\">         7</td><td style=\"text-align: right;\">                7</td></tr>\\n<tr><td style=\"text-align: right;\"> 2</td><td style=\"text-align: right;\">           2</td><td style=\"text-align: right;\">    23</td><td>Returning UNC Student      </td><td>No          </td><td>Statistics      </td><td>MATH 130, MATH 231, STOR 120, STOR 151                     </td><td>2-6 months </td><td>No             </td><td>No    </td><td>UNC                             </td><td>None to less than one month!</td><td>Python                                              </td><td>In-state    </td><td>Yes        </td><td>I am living in the United States</td><td>Section 1 - 3:30pm - Sync + Async</td><td style=\"text-align: right;\">            1</td><td style=\"text-align: right;\">          4</td><td style=\"text-align: right;\">         3</td><td style=\"text-align: right;\">          6</td><td style=\"text-align: right;\">             1</td><td style=\"text-align: right;\">          5</td><td style=\"text-align: right;\">             5</td><td style=\"text-align: right;\">               2</td><td style=\"text-align: right;\">                      3</td><td style=\"text-align: right;\">             7</td><td>7.0           </td><td>                    </td><td>7.0             </td><td style=\"text-align: right;\">     7</td><td style=\"text-align: right;\">           7</td><td style=\"text-align: right;\">              3</td><td style=\"text-align: right;\">           7</td><td style=\"text-align: right;\">         7</td><td style=\"text-align: right;\">                7</td></tr>\\n<tr><td style=\"text-align: right;\"> 3</td><td style=\"text-align: right;\">           3</td><td style=\"text-align: right;\">    23</td><td>Incoming Transfer Student  </td><td>No          </td><td>Sociology       </td><td>MATH 231, MATH 232, MATH 233, MATH 347, MATH 381, STOR 155 </td><td>2-6 months </td><td>No             </td><td>No    </td><td>On-line course                  </td><td>None to less than one month!</td><td>Python, Java / C#, R / Matlab / SAS, HTML / CSS, SQL</td><td>Out-of-state</td><td>No         </td><td>I am living Internationally     </td><td>Section 1 - 3:30pm - Sync + Async</td><td style=\"text-align: right;\">            4</td><td style=\"text-align: right;\">          4</td><td style=\"text-align: right;\">         4</td><td style=\"text-align: right;\">          6</td><td style=\"text-align: right;\">             4</td><td style=\"text-align: right;\">          0</td><td style=\"text-align: right;\">             6</td><td style=\"text-align: right;\">               6</td><td style=\"text-align: right;\">                      6</td><td style=\"text-align: right;\">             6</td><td>              </td><td>                    </td><td>7.0             </td><td style=\"text-align: right;\">     4</td><td style=\"text-align: right;\">           4</td><td style=\"text-align: right;\">              5</td><td style=\"text-align: right;\">           5</td><td style=\"text-align: right;\">         6</td><td style=\"text-align: right;\">                6</td></tr>\\n<tr><td style=\"text-align: right;\"> 4</td><td style=\"text-align: right;\">           4</td><td style=\"text-align: right;\">    24</td><td>Incoming First-year Student</td><td>Yes - BS    </td><td>Computer Science</td><td>MATH 129P, MATH 231, MATH 232, MATH 233, STOR 120, STOR 155</td><td>7-12 months</td><td>Yes            </td><td>Yes   </td><td>High school course (IB or other)</td><td>1 month or so               </td><td>Python, Java / C#, BASIC                            </td><td>In-state    </td><td>No         </td><td>I am living in the United States</td><td>Section 1 - 3:30pm - Sync + Async</td><td style=\"text-align: right;\">            4</td><td style=\"text-align: right;\">          4</td><td style=\"text-align: right;\">         4</td><td style=\"text-align: right;\">          5</td><td style=\"text-align: right;\">             4</td><td style=\"text-align: right;\">          0</td><td style=\"text-align: right;\">             4</td><td style=\"text-align: right;\">               5</td><td style=\"text-align: right;\">                      6</td><td style=\"text-align: right;\">             4</td><td>              </td><td>                    </td><td>                </td><td style=\"text-align: right;\">     3</td><td style=\"text-align: right;\">           5</td><td style=\"text-align: right;\">              5</td><td style=\"text-align: right;\">           4</td><td style=\"text-align: right;\">         5</td><td style=\"text-align: right;\">                4</td></tr>\\n</tbody>\\n</table>'"
      ],
      "text/html": "<table>\n<thead>\n<tr><th style=\"text-align: right;\">  </th><th style=\"text-align: right;\">  row_number</th><th style=\"text-align: right;\">  year</th><th>unc_status                 </th><th>comp_major  </th><th>primary_major   </th><th>prereqs                                                    </th><th>prior_exp  </th><th>AP_Principles  </th><th>AP_A  </th><th>other_comp                      </th><th>prior_time                  </th><th>languages                                           </th><th>residency   </th><th>on_campus  </th><th>international                   </th><th>section                          </th><th style=\"text-align: right;\">  lesson_time</th><th style=\"text-align: right;\">  sync_perf</th><th style=\"text-align: right;\">  all_sync</th><th style=\"text-align: right;\">  own_notes</th><th style=\"text-align: right;\">  own_examples</th><th style=\"text-align: right;\">  oh_visits</th><th style=\"text-align: right;\">  ls_effective</th><th style=\"text-align: right;\">  lsqs_effective</th><th style=\"text-align: right;\">  programming_effective</th><th style=\"text-align: right;\">  qz_effective</th><th>oh_effective  </th><th>tutoring_effective  </th><th>kaki_effective  </th><th style=\"text-align: right;\">  pace</th><th style=\"text-align: right;\">  difficulty</th><th style=\"text-align: right;\">  understanding</th><th style=\"text-align: right;\">  interested</th><th style=\"text-align: right;\">  valuable</th><th style=\"text-align: right;\">  would_recommend</th></tr>\n</thead>\n<tbody>\n<tr><td style=\"text-align: right;\"> 0</td><td style=\"text-align: right;\">           0</td><td style=\"text-align: right;\">    21</td><td>Returning UNC Student      </td><td>No          </td><td>Public Health   </td><td>MATH 231, MATH 232, MATH 233, STOR 155                     </td><td>1-2 years  </td><td>No             </td><td>No    </td><td>UNC                             </td><td>1 month or so               </td><td>Python, R / Matlab / SAS, Other                     </td><td>Out-of-state</td><td>Yes        </td><td>I am living in the United States</td><td>Section 2 - 5:00pm - Async       </td><td style=\"text-align: right;\">            1</td><td style=\"text-align: right;\">          3</td><td style=\"text-align: right;\">         3</td><td style=\"text-align: right;\">          7</td><td style=\"text-align: right;\">             4</td><td style=\"text-align: right;\">          2</td><td style=\"text-align: right;\">             3</td><td style=\"text-align: right;\">               5</td><td style=\"text-align: right;\">                      3</td><td style=\"text-align: right;\">             4</td><td>7.0           </td><td>3.0                 </td><td>4.0             </td><td style=\"text-align: right;\">     5</td><td style=\"text-align: right;\">           5</td><td style=\"text-align: right;\">              5</td><td style=\"text-align: right;\">           7</td><td style=\"text-align: right;\">         7</td><td style=\"text-align: right;\">                6</td></tr>\n<tr><td style=\"text-align: right;\"> 1</td><td style=\"text-align: right;\">           1</td><td style=\"text-align: right;\">    23</td><td>Returning UNC Student      </td><td>No          </td><td>Statistics      </td><td>MATH 130, MATH 231, STOR 120, STOR 151                     </td><td>2-6 months </td><td>No             </td><td>No    </td><td>UNC                             </td><td>None to less than one month!</td><td>Python                                              </td><td>In-state    </td><td>Yes        </td><td>I am living in the United States</td><td>Section 1 - 3:30pm - Sync + Async</td><td style=\"text-align: right;\">            1</td><td style=\"text-align: right;\">          4</td><td style=\"text-align: right;\">         3</td><td style=\"text-align: right;\">          6</td><td style=\"text-align: right;\">             1</td><td style=\"text-align: right;\">          5</td><td style=\"text-align: right;\">             5</td><td style=\"text-align: right;\">               2</td><td style=\"text-align: right;\">                      3</td><td style=\"text-align: right;\">             7</td><td>7.0           </td><td>                    </td><td>7.0             </td><td style=\"text-align: right;\">     7</td><td style=\"text-align: right;\">           7</td><td style=\"text-align: right;\">              3</td><td style=\"text-align: right;\">           7</td><td style=\"text-align: right;\">         7</td><td style=\"text-align: right;\">                7</td></tr>\n<tr><td style=\"text-align: right;\"> 2</td><td style=\"text-align: right;\">           2</td><td style=\"text-align: right;\">    23</td><td>Returning UNC Student      </td><td>No          </td><td>Statistics      </td><td>MATH 130, MATH 231, STOR 120, STOR 151                     </td><td>2-6 months </td><td>No             </td><td>No    </td><td>UNC                             </td><td>None to less than one month!</td><td>Python                                              </td><td>In-state    </td><td>Yes        </td><td>I am living in the United States</td><td>Section 1 - 3:30pm - Sync + Async</td><td style=\"text-align: right;\">            1</td><td style=\"text-align: right;\">          4</td><td style=\"text-align: right;\">         3</td><td style=\"text-align: right;\">          6</td><td style=\"text-align: right;\">             1</td><td style=\"text-align: right;\">          5</td><td style=\"text-align: right;\">             5</td><td style=\"text-align: right;\">               2</td><td style=\"text-align: right;\">                      3</td><td style=\"text-align: right;\">             7</td><td>7.0           </td><td>                    </td><td>7.0             </td><td style=\"text-align: right;\">     7</td><td style=\"text-align: right;\">           7</td><td style=\"text-align: right;\">              3</td><td style=\"text-align: right;\">           7</td><td style=\"text-align: right;\">         7</td><td style=\"text-align: right;\">                7</td></tr>\n<tr><td style=\"text-align: right;\"> 3</td><td style=\"text-align: right;\">           3</td><td style=\"text-align: right;\">    23</td><td>Incoming Transfer Student  </td><td>No          </td><td>Sociology       </td><td>MATH 231, MATH 232, MATH 233, MATH 347, MATH 381, STOR 155 </td><td>2-6 months </td><td>No             </td><td>No    </td><td>On-line course                  </td><td>None to less than one month!</td><td>Python, Java / C#, R / Matlab / SAS, HTML / CSS, SQL</td><td>Out-of-state</td><td>No         </td><td>I am living Internationally     </td><td>Section 1 - 3:30pm - Sync + Async</td><td style=\"text-align: right;\">            4</td><td style=\"text-align: right;\">          4</td><td style=\"text-align: right;\">         4</td><td style=\"text-align: right;\">          6</td><td style=\"text-align: right;\">             4</td><td style=\"text-align: right;\">          0</td><td style=\"text-align: right;\">             6</td><td style=\"text-align: right;\">               6</td><td style=\"text-align: right;\">                      6</td><td style=\"text-align: right;\">             6</td><td>              </td><td>                    </td><td>7.0             </td><td style=\"text-align: right;\">     4</td><td style=\"text-align: right;\">           4</td><td style=\"text-align: right;\">              5</td><td style=\"text-align: right;\">           5</td><td style=\"text-align: right;\">         6</td><td style=\"text-align: right;\">                6</td></tr>\n<tr><td style=\"text-align: right;\"> 4</td><td style=\"text-align: right;\">           4</td><td style=\"text-align: right;\">    24</td><td>Incoming First-year Student</td><td>Yes - BS    </td><td>Computer Science</td><td>MATH 129P, MATH 231, MATH 232, MATH 233, STOR 120, STOR 155</td><td>7-12 months</td><td>Yes            </td><td>Yes   </td><td>High school course (IB or other)</td><td>1 month or so               </td><td>Python, Java / C#, BASIC                            </td><td>In-state    </td><td>No         </td><td>I am living in the United States</td><td>Section 1 - 3:30pm - Sync + Async</td><td style=\"text-align: right;\">            4</td><td style=\"text-align: right;\">          4</td><td style=\"text-align: right;\">         4</td><td style=\"text-align: right;\">          5</td><td style=\"text-align: right;\">             4</td><td style=\"text-align: right;\">          0</td><td style=\"text-align: right;\">             4</td><td style=\"text-align: right;\">               5</td><td style=\"text-align: right;\">                      6</td><td style=\"text-align: right;\">             4</td><td>              </td><td>                    </td><td>                </td><td style=\"text-align: right;\">     3</td><td style=\"text-align: right;\">           5</td><td style=\"text-align: right;\">              5</td><td style=\"text-align: right;\">           4</td><td style=\"text-align: right;\">         5</td><td style=\"text-align: right;\">                4</td></tr>\n</tbody>\n</table>"
     },
     "metadata": {},
     "execution_count": 9
    }
   ],
   "source": [
    "from data_utils import columnar, head\n",
    "from tabulate import tabulate\n",
    "\n",
    "columns: dict[str, list[str]] = columnar(rows)\n",
    "columns_head: dict[str, list[str]] = head(columns, 5)\n",
    "tabulate(columns_head, columns_head.keys(), \"html\")"
   ]
  },
  {
   "source": [
    "## 2. Select just the pace and note-taking columns.\n",
    "#### Here, we are creating a new table of the same format, but we are only keeping the columns describing the percieved pace of the class and how often the students took notes. The first five rows of this table are shown. It appears a lot less messy than the previous table and only contains data that we are concerned with. Because we are now only working with numeric values, the list values can now be integers instead of strings. The tabulate function is yet again just for the *aesthetic*."
   ],
   "cell_type": "markdown",
   "metadata": {}
  },
  {
   "cell_type": "code",
   "execution_count": 60,
   "metadata": {},
   "outputs": [
    {
     "output_type": "execute_result",
     "data": {
      "text/plain": [
       "'<table>\\n<thead>\\n<tr><th style=\"text-align: right;\">  own_notes</th><th style=\"text-align: right;\">  pace</th></tr>\\n</thead>\\n<tbody>\\n<tr><td style=\"text-align: right;\">          7</td><td style=\"text-align: right;\">     5</td></tr>\\n<tr><td style=\"text-align: right;\">          6</td><td style=\"text-align: right;\">     7</td></tr>\\n<tr><td style=\"text-align: right;\">          6</td><td style=\"text-align: right;\">     7</td></tr>\\n<tr><td style=\"text-align: right;\">          6</td><td style=\"text-align: right;\">     4</td></tr>\\n<tr><td style=\"text-align: right;\">          5</td><td style=\"text-align: right;\">     3</td></tr>\\n</tbody>\\n</table>'"
      ],
      "text/html": "<table>\n<thead>\n<tr><th style=\"text-align: right;\">  own_notes</th><th style=\"text-align: right;\">  pace</th></tr>\n</thead>\n<tbody>\n<tr><td style=\"text-align: right;\">          7</td><td style=\"text-align: right;\">     5</td></tr>\n<tr><td style=\"text-align: right;\">          6</td><td style=\"text-align: right;\">     7</td></tr>\n<tr><td style=\"text-align: right;\">          6</td><td style=\"text-align: right;\">     7</td></tr>\n<tr><td style=\"text-align: right;\">          6</td><td style=\"text-align: right;\">     4</td></tr>\n<tr><td style=\"text-align: right;\">          5</td><td style=\"text-align: right;\">     3</td></tr>\n</tbody>\n</table>"
     },
     "metadata": {},
     "execution_count": 60
    }
   ],
   "source": [
    "from data_utils import select\n",
    "\n",
    "notes_pace_cols: dict[str, list[int]] = select(columns, [\"own_notes\", \"pace\"])\n",
    "notes_pace_cols_head: dict[str, list[int]] = head(notes_pace_cols, 5)\n",
    "tabulate(notes_pace_cols_head, notes_pace_cols_head.keys(), \"html\")"
   ]
  },
  {
   "cell_type": "code",
   "execution_count": null,
   "metadata": {},
   "outputs": [],
   "source": []
  }
 ]
}