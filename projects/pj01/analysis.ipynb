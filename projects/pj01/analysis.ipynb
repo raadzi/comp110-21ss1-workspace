{
 "metadata": {
  "language_info": {
   "codemirror_mode": {
    "name": "ipython",
    "version": 3
   },
   "file_extension": ".py",
   "mimetype": "text/x-python",
   "name": "python",
   "nbconvert_exporter": "python",
   "pygments_lexer": "ipython3",
   "version": "3.9.5"
  },
  "orig_nbformat": 4,
  "kernelspec": {
   "name": "python3",
   "display_name": "Python 3.9.5 64-bit"
  },
  "interpreter": {
   "hash": "534af56a150f34f6ed5af9f88817ab096e171ab048c95cb88cb7da9b08ceb781"
  }
 },
 "nbformat": 4,
 "nbformat_minor": 2,
 "cells": [
  {
   "source": [
    "# Hypothesis: People who take their own notes are less likely to think thst the class is fast-paced."
   ],
   "cell_type": "markdown",
   "metadata": {}
  },
  {
   "source": [
    "## 1. Import the CSV with data from the previous semester and create a column-oriented table.\n",
    "#### This first code ensures that any changes are automatically reloaded and saved in the imported modules."
   ],
   "cell_type": "markdown",
   "metadata": {}
  },
  {
   "source": [
    "%reload_ext autoreload\n",
    "%autoreload 2"
   ],
   "cell_type": "code",
   "metadata": {},
   "execution_count": 1,
   "outputs": []
  },
  {
   "source": [
    "#### This navigates to the data directory and creates a constant that shows the file path to the survey results that are needed for this exploration. Then, the program reads the CSV and creates rows that are lists of dictionaries, with both keys and values being strings."
   ],
   "cell_type": "markdown",
   "metadata": {}
  },
  {
   "cell_type": "code",
   "execution_count": 1,
   "metadata": {
    "tags": []
   },
   "outputs": [],
   "source": [
    "DATA_DIRECTORY=\"../../data\"\n",
    "DATA_FILE_PATH=f\"{DATA_DIRECTORY}/survey.csv\"\n",
    "\n",
    "from data_utils import read_csv_rows\n",
    "\n",
    "data_rows: list[dict[str, str]] = read_csv_rows(DATA_FILE_PATH)"
   ]
  },
  {
   "source": [
    "#### Next, we convert this list of rows into a column-oriented table, or a dictionary of columns."
   ],
   "cell_type": "markdown",
   "metadata": {}
  },
  {
   "cell_type": "code",
   "execution_count": null,
   "metadata": {},
   "outputs": [],
   "source": [
    "from data_utils import columnar\n",
    "\n",
    "data_columns: dict[str, list[str]] = columnar(data_rows)"
   ]
  },
  {
   "source": [
    "## 2. Select just the pace and note-taking columns.\n",
    "#### Here, we are creating a new table of the same format, but we are only keeping the columns describing the percieved pace of the class and how often the students took notes."
   ],
   "cell_type": "markdown",
   "metadata": {}
  },
  {
   "cell_type": "code",
   "execution_count": null,
   "metadata": {},
   "outputs": [],
   "source": [
    "from data_utils import select\n",
    "\n"
   ]
  }
 ]
}